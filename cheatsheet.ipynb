{
 "cells": [
  {
   "cell_type": "markdown",
   "metadata": {},
   "source": [
    "# Dictionary"
   ]
  },
  {
   "cell_type": "code",
   "execution_count": 1,
   "metadata": {},
   "outputs": [
    {
     "name": "stdout",
     "output_type": "stream",
     "text": [
      "False\n",
      "Dictionary is empty\n"
     ]
    }
   ],
   "source": [
    "# check if dictionary is empty\n",
    "empty_dict = {}\n",
    "print(bool(empty_dict)) # False\n",
    "if not empty_dict:\n",
    "    print(\"Dictionary is empty\")"
   ]
  },
  {
   "cell_type": "code",
   "execution_count": null,
   "metadata": {},
   "outputs": [],
   "source": [
    "# check if key exists in dictionary\n",
    "person = {\"name\": \"John\", \"age\": 30}\n",
    "bad_key = \"job\"\n",
    "if person.__contains__(bad_key):\n",
    "    print(\"exists\")\n",
    "else:\n",
    "    print(\"does not exist\") "
   ]
  }
 ],
 "metadata": {
  "kernelspec": {
   "display_name": "Python 3",
   "language": "python",
   "name": "python3"
  },
  "language_info": {
   "name": "python",
   "version": "3.11.1"
  }
 },
 "nbformat": 4,
 "nbformat_minor": 2
}
